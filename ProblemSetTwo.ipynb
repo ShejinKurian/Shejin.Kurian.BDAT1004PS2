{
 "cells": [
  {
   "cell_type": "markdown",
   "id": "418547ed",
   "metadata": {},
   "source": [
    "# BDAT 1004 Problem Set Two"
   ]
  },
  {
   "cell_type": "markdown",
   "id": "79eba716",
   "metadata": {},
   "source": [
    "## Question 1"
   ]
  },
  {
   "cell_type": "markdown",
   "id": "d7560c45",
   "metadata": {},
   "source": [
    "Question 1 Consider the following Python module:\n",
    "a = 0\n",
    "def b():\n",
    " global a\n",
    " a = c(a)\n",
    "def c(a):\n",
    " return a + 2\n",
    "After importing the module into the interpreter, you execute:\n",
    ">>> b()\n",
    ">>> b()\n",
    ">>> b()\n",
    ">>> a\n",
    "?\n",
    "What value is displayed when the last expression (a) is evaluated? Explain your\n",
    "answer by indicating what happens in every executed statement."
   ]
  },
  {
   "cell_type": "code",
   "execution_count": 2,
   "id": "9a3486d2",
   "metadata": {},
   "outputs": [
    {
     "data": {
      "text/plain": [
       "6"
      ]
     },
     "execution_count": 2,
     "metadata": {},
     "output_type": "execute_result"
    }
   ],
   "source": [
    "a = 0\n",
    "\n",
    "def b():\n",
    "    global a\n",
    "    a = c(a)\n",
    "    \n",
    "def c(a):\n",
    "    return a + 2\n",
    "\n",
    "b()\n",
    "b()\n",
    "b()\n",
    "a"
   ]
  },
  {
   "cell_type": "markdown",
   "id": "0f6921ad",
   "metadata": {},
   "source": [
    "Explanation:\n",
    "\n",
    "Value is displayed as 6 when the last expression (a) is evaluated.\n",
    "\n",
    "When we exceute b() for the first time, a takes the value as specified in function c. In function c value becomes 2 (0 + 2) and then the value is transferred to function b and in function b, a = 2.\n",
    "\n",
    "Similarly when we execute b() for the second time, in the function c value becomes 4 (2+2) and then the value is transferred to function b and in function b, a = 4.\n",
    "\n",
    "Similarly when we execute b() for the third time, in the function c value becomes 6 (4+2) and then the value is transferred to function b and in function b, a = 6.\n",
    "\n",
    "And in the end when we execute a then the value of a is 6 and is displayed as output. Value of a keeps on changing as it is a global variable and applies to wherever it is called, it is not limited to a particular function."
   ]
  },
  {
   "cell_type": "markdown",
   "id": "724709f1",
   "metadata": {},
   "source": [
    "## Question 2"
   ]
  },
  {
   "cell_type": "markdown",
   "id": "ccaeda1e",
   "metadata": {},
   "source": [
    "Question 2\n",
    "Function fileLength(), given to you, takes the name of a file as input and returns\n",
    "the length of the file:\n",
    ">>> fileLength('midterm.py')\n",
    "284\n",
    ">>> fileLength('idterm.py')\n",
    "Traceback (most recent call last):\n",
    "File \"<pyshell#34>\", line 1, in <module>\n",
    " fileLength('idterm.py')\n",
    "File \"/Users/me/midterm.py\", line 3, in fileLength\n",
    " infile = open(filename)\n",
    "FileNotFoundError: [Errno 2] No such file or directory:\n",
    "'idterm.py'\n",
    "As shown above, if the file cannot be found by the interpreter or if it cannot be read\n",
    "as a text file, an exception will be raised. Modify function fileLength() so that a\n",
    "friendly message is printed instead:\n",
    ">>> fileLength('midterm.py')\n",
    "358\n",
    ">>> fileLength('idterm.py')\n",
    "File idterm.py not found."
   ]
  },
  {
   "cell_type": "code",
   "execution_count": 6,
   "id": "6e5bd805",
   "metadata": {},
   "outputs": [],
   "source": [
    "def file_length(file_name):\n",
    "    try:\n",
    "        file = open(file_name)\n",
    "        contents = file.read()\n",
    "        file.close()\n",
    "        print(len(contents))\n",
    "    except:\n",
    "        print(\"File \"+ file_name +\" not found.\")"
   ]
  },
  {
   "cell_type": "code",
   "execution_count": 7,
   "id": "1b401a1a",
   "metadata": {},
   "outputs": [
    {
     "name": "stdout",
     "output_type": "stream",
     "text": [
      "27389\n"
     ]
    }
   ],
   "source": [
    "file_length('ProblemSetOne.ipynb')"
   ]
  },
  {
   "cell_type": "code",
   "execution_count": 8,
   "id": "b1dadd0f",
   "metadata": {},
   "outputs": [
    {
     "name": "stdout",
     "output_type": "stream",
     "text": [
      "File roblemSetOne.ipynb not found.\n"
     ]
    }
   ],
   "source": [
    "file_length('roblemSetOne.ipynb')"
   ]
  },
  {
   "cell_type": "markdown",
   "id": "9640f072",
   "metadata": {},
   "source": [
    "## Question 3"
   ]
  },
  {
   "cell_type": "markdown",
   "id": "11cf2fd1",
   "metadata": {},
   "source": [
    "Question 3\n",
    "Write a class named Marsupial that can be used as shown below:\n",
    ">>> m = Marsupial()\n",
    ">>> m.put_in_pouch('doll')\n",
    ">>> m.put_in_pouch('firetruck')\n",
    ">>> m.put_in_pouch('kitten')\n",
    ">>> m.pouch_contents()\n",
    "['doll', 'firetruck', 'kitten']\n",
    "Now write a class named Kangaroo as a subclass of Marsupial that inherits all the\n",
    "attributes of Marsupial and also:\n",
    "a. extends the Marsupial __init__ constructor to take, as input, the\n",
    "coordinates x and y of the Kangaroo object,\n",
    "b. supports method jump that takes number values dx and dy as input and\n",
    "moves the kangaroo by dx units along the x-axis and by dy units along the yaxis, and\n",
    "c. overloads the __str__ operator so it behaves as shown below.\n",
    ">>> k = Kangaroo(0,0)\n",
    ">>> print(k)\n",
    "I am a Kangaroo located at coordinates (0,0)\n",
    ">>> k.put_in_pouch('doll')\n",
    ">>> k.put_in_pouch('firetruck')\n",
    ">>> k.put_in_pouch('kitten')\n",
    ">>> k.pouch_contents()\n",
    "['doll', 'firetruck', 'kitten']\n",
    ">>> k.jump(1,0)\n",
    ">>> k.jump(1,0)\n",
    ">>> k.jump(1,0)\n",
    ">>> print(k)\n",
    "I am a Kangaroo located at coordinates (3,0)"
   ]
  },
  {
   "cell_type": "code",
   "execution_count": 78,
   "id": "ff79fb05",
   "metadata": {},
   "outputs": [
    {
     "name": "stdout",
     "output_type": "stream",
     "text": [
      "['doll', 'firetruck', 'kitten']\n",
      "I am a Kangaroo located at (0,0)\n",
      "['doll', 'firetruck', 'kitten', 'doll', 'firetruck', 'kitten']\n",
      "I am a Kangaroo located at (3,0)\n"
     ]
    }
   ],
   "source": [
    "x=0\n",
    "y=0\n",
    "pouch = []\n",
    "\n",
    "class Marsupial:    \n",
    "    \n",
    "    def put_in_pouch(self,a):\n",
    "        pouch.append(a)\n",
    "        \n",
    "    def pouch_contents(self):\n",
    "        print(pouch)\n",
    "\n",
    "class Kangaroo(Marsupial):\n",
    "\n",
    "    def __init__(self,x,y):\n",
    "        x=x\n",
    "        y=y\n",
    "        #print(\"I am a Kangaroo located at (\"+str(x)+\",\"+str(y)+\")\")\n",
    "        \n",
    "    def jump(self,dx,dy):\n",
    "        global x\n",
    "        global y\n",
    "        x=x+dx\n",
    "        y=y+dy\n",
    "        \n",
    "    def __str__(self):\n",
    "        return \"I am a Kangaroo located at (\"+str(x)+\",\"+str(y)+\")\"\n",
    "    \n",
    "m= Marsupial()\n",
    "m.put_in_pouch('doll')\n",
    "m.put_in_pouch('firetruck')\n",
    "m.put_in_pouch('kitten')\n",
    "m.pouch_contents()\n",
    "k=Kangaroo(0,0)\n",
    "print(k)\n",
    "k.put_in_pouch('doll')\n",
    "k.put_in_pouch('firetruck')\n",
    "k.put_in_pouch('kitten')\n",
    "k.pouch_contents()\n",
    "k.jump(1,0)\n",
    "k.jump(1,0)\n",
    "k.jump(1,0)\n",
    "print(k)"
   ]
  },
  {
   "cell_type": "markdown",
   "id": "8c3980ea",
   "metadata": {},
   "source": [
    "## Question 4"
   ]
  },
  {
   "cell_type": "markdown",
   "id": "eae6e6b5",
   "metadata": {},
   "source": [
    "Question 4\n",
    "Write function collatz() that takes a positive integer x as input and prints the\n",
    "Collatz sequence starting at x. A Collatz sequence is obtained by repeatedly applying\n",
    "this rule to the previous number x in the sequence:\n",
    "x = {\n",
    "𝑥/2 𝑖𝑓 𝑥 𝑖𝑠 𝑒𝑣𝑒𝑛\n",
    "3𝑥 + 1 𝑖𝑓 𝑥 𝑖𝑠 𝑜𝑑𝑑\n",
    "Your function should stop when the sequence gets to number 1. Your\n",
    "implementation must be recursive, without any loops\n",
    ">>> collatz(1)\n",
    "1\n",
    ">>> collatz(10)\n",
    "10\n",
    "5\n",
    "16\n",
    "8\n",
    "4\n",
    "2\n",
    "1"
   ]
  },
  {
   "cell_type": "code",
   "execution_count": 41,
   "id": "f28002d3",
   "metadata": {},
   "outputs": [],
   "source": [
    "def collatz(x):\n",
    "    if x == 1:\n",
    "        print (int(x))\n",
    "        return\n",
    "\n",
    "    elif x%2 == 0:\n",
    "        print (int (x))\n",
    "        return collatz(x/2)\n",
    "\n",
    "    else:\n",
    "        print(int(x))\n",
    "        return collatz(3*x + 1)"
   ]
  },
  {
   "cell_type": "code",
   "execution_count": 42,
   "id": "d37a0262",
   "metadata": {},
   "outputs": [
    {
     "name": "stdout",
     "output_type": "stream",
     "text": [
      "10\n",
      "5\n",
      "16\n",
      "8\n",
      "4\n",
      "2\n",
      "1\n"
     ]
    }
   ],
   "source": [
    "collatz(10)"
   ]
  },
  {
   "cell_type": "code",
   "execution_count": 43,
   "id": "8f6406ac",
   "metadata": {},
   "outputs": [
    {
     "name": "stdout",
     "output_type": "stream",
     "text": [
      "1\n"
     ]
    }
   ],
   "source": [
    "collatz(1)"
   ]
  },
  {
   "cell_type": "markdown",
   "id": "51ab6672",
   "metadata": {},
   "source": [
    "## Question 5"
   ]
  },
  {
   "cell_type": "markdown",
   "id": "da907f6e",
   "metadata": {},
   "source": [
    "Question 5\n",
    "Write a recursive method binary() that takes a non-negative\n",
    "integer n and prints the binary representation of integer n.\n",
    ">>> binary(0)\n",
    "0\n",
    ">>> binary(1)\n",
    "1\n",
    ">>> binary(3)\n",
    "11\n",
    ">>> binary(9)\n",
    "1001"
   ]
  },
  {
   "cell_type": "code",
   "execution_count": 144,
   "id": "a8a09e7c",
   "metadata": {},
   "outputs": [
    {
     "name": "stdout",
     "output_type": "stream",
     "text": [
      "0\n"
     ]
    }
   ],
   "source": [
    "result = \"\"\n",
    "def binary(x):\n",
    "    quotient = 0\n",
    "    remainder = 0\n",
    "    global result\n",
    "    \n",
    "    if(x !=0):\n",
    "        quotient = x//2\n",
    "        remainder = x%2\n",
    "        result = result + str(remainder)\n",
    "        binary(quotient)\n",
    "    elif(result == \"\"):\n",
    "        print (\"0\")\n",
    "    else:\n",
    "        print(result)\n",
    "        result = \"\"\n",
    "        \n",
    "binary(0)"
   ]
  },
  {
   "cell_type": "code",
   "execution_count": 145,
   "id": "95161f97",
   "metadata": {},
   "outputs": [
    {
     "name": "stdout",
     "output_type": "stream",
     "text": [
      "1\n"
     ]
    }
   ],
   "source": [
    "result = \"\"\n",
    "def binary(x):\n",
    "    quotient = 0\n",
    "    remainder = 0\n",
    "    global result\n",
    "    \n",
    "    if(x !=0):\n",
    "        quotient = x//2\n",
    "        remainder = x%2\n",
    "        result = result + str(remainder)\n",
    "        binary(quotient)\n",
    "    else:\n",
    "        print(result)\n",
    "        \n",
    "binary(1)"
   ]
  },
  {
   "cell_type": "code",
   "execution_count": 146,
   "id": "7d564dbe",
   "metadata": {},
   "outputs": [
    {
     "name": "stdout",
     "output_type": "stream",
     "text": [
      "11\n"
     ]
    }
   ],
   "source": [
    "result = \"\"\n",
    "def binary(x):\n",
    "    quotient = 0\n",
    "    remainder = 0\n",
    "    global result\n",
    "    \n",
    "    if(x !=0):\n",
    "        quotient = x//2\n",
    "        remainder = x%2\n",
    "        result = result + str(remainder)\n",
    "        binary(quotient)\n",
    "    else:\n",
    "        print(result)\n",
    "        \n",
    "binary(3)"
   ]
  },
  {
   "cell_type": "code",
   "execution_count": 147,
   "id": "c4ef1cd8",
   "metadata": {},
   "outputs": [
    {
     "name": "stdout",
     "output_type": "stream",
     "text": [
      "1001\n"
     ]
    }
   ],
   "source": [
    "result = \"\"\n",
    "def binary(x):\n",
    "    quotient = 0\n",
    "    remainder = 0\n",
    "    global result\n",
    "    \n",
    "    if(x !=0):\n",
    "        quotient = x//2\n",
    "        remainder = x%2\n",
    "        result = result + str(remainder)\n",
    "        binary(quotient)\n",
    "    elif(result == \"\"):\n",
    "        print (\"0\")\n",
    "    else:\n",
    "        print(result)\n",
    "        result = \"\"\n",
    "        \n",
    "binary(9)"
   ]
  },
  {
   "cell_type": "markdown",
   "id": "b6250ce1",
   "metadata": {},
   "source": [
    "## Question 6"
   ]
  },
  {
   "cell_type": "code",
   "execution_count": null,
   "id": "257925ca",
   "metadata": {},
   "outputs": [],
   "source": [
    "Question 6\n",
    "Implement a class named HeadingParser that can be used to parse an HTML\n",
    "document, and retrieve and print all the headings in the document. You should\n",
    "implement your class as a subclass of HTMLParser, defined in Standard Library\n",
    "module html.parser. When fed a string containing HTML code, your class should\n",
    "print the headings, one per line and in the order in which they appear in the\n",
    "document. Each heading should be indented as follows: an h1 heading should have\n",
    "indentation 0, and h2 heading should have indentation 1, etc. Test your\n",
    "implementation using w3c.html.\n",
    ">>> infile = open('w3c.html')\n",
    ">>> content = infile.read()\n",
    ">>> infile.close()\n",
    ">>> hp = HeadingParser()\n",
    ">>> hp.feed(content)\n",
    "W3C Mission\n",
    "Principles"
   ]
  },
  {
   "cell_type": "code",
   "execution_count": 92,
   "id": "68ac89c0",
   "metadata": {},
   "outputs": [
    {
     "name": "stdout",
     "output_type": "stream",
     "text": [
      " W3C Mission\n",
      " \n",
      "\n",
      "  Principles\n",
      "  \n",
      "\n"
     ]
    }
   ],
   "source": [
    "from html.parser import HTMLParser\n",
    "\n",
    "class HeadingParser(HTMLParser):\n",
    "    tag1 = \"\"\n",
    "    \n",
    "    def handle_starttag(self, tag, arrgs):\n",
    "        global tag1\n",
    "        tag1=tag\n",
    "                \n",
    "    def handle_data(self, data):\n",
    "        global tag1\n",
    "        if(tag1 == \"h1\"):\n",
    "            print(\" \"+data)\n",
    "        elif(tag1 == \"h2\"):\n",
    "            print(\"  \"+data)\n",
    "            \n",
    "infile = open(\"w3c.html\") \n",
    "content = infile.read() \n",
    "infile.close() \n",
    "hp = HeadingParser()\n",
    "hp.feed(content)"
   ]
  },
  {
   "cell_type": "markdown",
   "id": "342f893b",
   "metadata": {},
   "source": [
    "## Question 7"
   ]
  },
  {
   "cell_type": "markdown",
   "id": "c60126fc",
   "metadata": {},
   "source": [
    "Question 7\n",
    "Implement recursive function webdir() that takes as input: a URL (as a string) and\n",
    "non-negative integers depth and indent. Your function should visit every web\n",
    "page reachable from the starting URL web page in depth clicks or less, and print\n",
    "each web page's URL. As shown below, indentation, specified by indent, should\n",
    "be used to indicate the depth of a URL.\n",
    ">>>\n",
    "webdir('http://reed.cs.depaul.edu/lperkovic/csc242/test1.html'\n",
    ", 2, 0)\n",
    "http://reed.cs.depaul.edu/lperkovic/csc242/test1.html\n",
    " http://reed.cs.depaul.edu/lperkovic/csc242/test2.html\n",
    " http://reed.cs.depaul.edu/lperkovic/csc242/test4.html\n",
    " http://reed.cs.depaul.edu/lperkovic/csc242/test3.html\n",
    " http://reed.cs.depaul.edu/lperkovic/csc242/test4.html"
   ]
  },
  {
   "cell_type": "code",
   "execution_count": 22,
   "id": "c5ffc35d",
   "metadata": {},
   "outputs": [],
   "source": [
    "from urllib.parse import urljoin\n",
    "from html.parser import HTMLParser\n",
    "class Collector(HTMLParser):\n",
    "    'collects hyperlink URLs into a list'\n",
    "\n",
    "    def __init__(self, url):\n",
    "        'initializes parser, the url, and a list'\n",
    "        HTMLParser.__init__(self)\n",
    "        self.url = url\n",
    "        self.links = []\n",
    "\n",
    "    \n",
    "    def handle_starttag(self, tag, attrs):\n",
    "        'collects hyperlink URLs in their absolute format'\n",
    "        if tag == 'a':\n",
    "            for attr in attrs:\n",
    "                if attr[0] == 'href':\n",
    "                    # construct absolute URL\n",
    "                    absolute = urljoin(self.url, attr[1])\n",
    "                    if absolute[:4] == 'http': # collect HTTP URLs\n",
    "                        self.links.append(absolute)\n",
    "                        \n",
    "    def getLinks(self):\n",
    "        'returns hyperlinks URLs in their absolute format'\n",
    "        return self.links\n",
    "\n",
    "    \n",
    "from urllib.request import urlopen\n",
    "def webdir(url, depth, indent):\n",
    "    openurl = urlopen(url)\n",
    "    content = openurl.read().decode()\n",
    "    collector = Collector(url)\n",
    "    collector.feed(content)\n",
    "    urls = collector.getLinks()\n",
    "    \n",
    "    print(\"{}{} \".format(indent*'', url))\n",
    "    \n",
    "    for each in urls:\n",
    "        if depth>0:\n",
    "            webdir(each, depth-1, indent+1)\n",
    "        return urls"
   ]
  },
  {
   "cell_type": "code",
   "execution_count": 23,
   "id": "ffe1dd47",
   "metadata": {},
   "outputs": [
    {
     "name": "stdout",
     "output_type": "stream",
     "text": [
      "http://www.w3.org/Consortium/mission.html \n",
      "http://www.w3.org/ \n",
      "http://www.w3.org/ \n"
     ]
    },
    {
     "data": {
      "text/plain": [
       "['http://www.w3.org/',\n",
       " 'http://www.w3.org/standards/',\n",
       " 'http://www.w3.org/participate/',\n",
       " 'http://www.w3.org/Consortium/membership',\n",
       " 'http://www.w3.org/Consortium/',\n",
       " 'http://www.w3.org/Consortium/',\n",
       " 'http://www.w3.org/Consortium/facts.html',\n",
       " 'http://www.w3.org/Consortium/presskit.html',\n",
       " 'http://www.w3.org/Consortium/sponsor/',\n",
       " 'http://www.w3.org/Consortium/Recruitment/',\n",
       " 'http://www.w3.org/Consortium/contact.html',\n",
       " 'http://www.w3.org/Help/',\n",
       " 'http://www.w3.org/Consortium/mission.html#w3c_content_body',\n",
       " 'http://www.w3.org/',\n",
       " 'http://www.w3.org/Consortium/',\n",
       " 'http://www.w3.org/Consortium/mission.html#openstand',\n",
       " 'http://www.w3.org/Consortium/mission.html#principles',\n",
       " 'http://www.w3.org/Consortium/mission.html#vision',\n",
       " 'http://open-stand.org/principles/',\n",
       " 'http://open-stand.org/',\n",
       " 'http://www.w3.org/WAI/',\n",
       " 'http://www.w3.org/International/',\n",
       " 'http://www.w3.org/standards/webofdevices/',\n",
       " 'http://www.w3.org/Mobile/',\n",
       " 'http://www.w3.org/standards/agents/Overview.html',\n",
       " 'http://www.w3.org/standards/webdesign/',\n",
       " 'http://www.w3.org/standards/webarch/',\n",
       " 'http://www.w3.org/standards/xml/',\n",
       " 'http://www.w3.org/standards/semanticweb/',\n",
       " 'http://www.w3.org/standards/webofservices/',\n",
       " 'http://www.w3.org/standards/semanticweb/',\n",
       " 'http://www.w3.org/standards/xml/security',\n",
       " 'http://www.w3.org/standards/webofservices/security',\n",
       " 'http://www.w3.org/standards/webdesign/privacy',\n",
       " 'http://www.w3.org/',\n",
       " 'http://www.w3.org/standards/',\n",
       " 'http://www.w3.org/participate/',\n",
       " 'http://www.w3.org/Consortium/membership',\n",
       " 'http://www.w3.org/Consortium/',\n",
       " 'http://www.w3.org/Consortium/contact',\n",
       " 'http://www.w3.org/Help/',\n",
       " 'http://www.w3.org/Consortium/sup',\n",
       " 'http://www.w3.org/Consortium/siteindex',\n",
       " 'http://lists.w3.org/Archives/Public/site-comments/',\n",
       " 'http://twitter.com/W3C',\n",
       " 'http://www.csail.mit.edu/',\n",
       " 'http://www.ercim.org/',\n",
       " 'http://www.keio.ac.jp/',\n",
       " 'http://ev.buaa.edu.cn/',\n",
       " 'http://www.w3.org/Consortium/Legal/ipr-notice']"
      ]
     },
     "execution_count": 23,
     "metadata": {},
     "output_type": "execute_result"
    }
   ],
   "source": [
    "webdir('http://www.w3.org/Consortium/mission.html',2,0)"
   ]
  },
  {
   "cell_type": "markdown",
   "id": "efa0c501",
   "metadata": {},
   "source": [
    "## Question 8"
   ]
  },
  {
   "cell_type": "markdown",
   "id": "8a1dc9a6",
   "metadata": {},
   "source": [
    "Question 8\n",
    "Write SQL queries on the below database table that return:\n",
    "a) All the temperature data.\n",
    "b) All the cities, but without repetition.\n",
    "c) All the records for India.\n",
    "d) All the Fall records.\n",
    "e) The city, country, and season for which the average rainfall is between 200\n",
    "and 400 millimeters.\n",
    "f) The city and country for which the average Fall temperature is above 20\n",
    "degrees, in increasing temperature order.\n",
    "g) The total annual rainfall for Cairo.\n",
    "h) The total rainfall for each season\n",
    "\n",
    "City Country Season Temperature\n",
    "(C)\n",
    "Rainfall\n",
    "(mm)\n",
    "Mumbai India Winter 24.8 5.9\n",
    "Mumbai India Spring 28.4 16.2\n",
    "Mumbai India Summer 27.9 1549.4\n",
    "Mumbai India Fall 27.6 346.0\n",
    "London United Kingdom Winter 4.2 207.7\n",
    "London United Kingdom Spring 8.3 169.6\n",
    "London United Kingdom Summer 15.7 157.0\n",
    "London United Kingdom Fall 10.4 218.5\n",
    "Cairo Egypt Winter 13.6 16.5\n",
    "Cairo Egypt Spring 20.7 6.5\n",
    "Cairo Egypt Summer 27.7 0.1\n",
    "Cairo Egypt Fall 22.2 4.5"
   ]
  },
  {
   "cell_type": "code",
   "execution_count": 93,
   "id": "357eec4b",
   "metadata": {},
   "outputs": [
    {
     "name": "stdout",
     "output_type": "stream",
     "text": [
      "Requirement already satisfied: ipython-sql in c:\\users\\kuria\\anaconda3\\lib\\site-packages (0.4.0)\n",
      "Requirement already satisfied: sqlalchemy>=0.6.7 in c:\\users\\kuria\\anaconda3\\lib\\site-packages (from ipython-sql) (1.4.7)\n",
      "Requirement already satisfied: ipython-genutils>=0.1.0 in c:\\users\\kuria\\anaconda3\\lib\\site-packages (from ipython-sql) (0.2.0)\n",
      "Requirement already satisfied: prettytable<1 in c:\\users\\kuria\\anaconda3\\lib\\site-packages (from ipython-sql) (0.7.2)\n",
      "Requirement already satisfied: six in c:\\users\\kuria\\anaconda3\\lib\\site-packages (from ipython-sql) (1.15.0)\n",
      "Requirement already satisfied: ipython>=1.0 in c:\\users\\kuria\\anaconda3\\lib\\site-packages (from ipython-sql) (7.22.0)\n",
      "Requirement already satisfied: sqlparse in c:\\users\\kuria\\anaconda3\\lib\\site-packages (from ipython-sql) (0.4.1)\n",
      "Requirement already satisfied: colorama in c:\\users\\kuria\\anaconda3\\lib\\site-packages (from ipython>=1.0->ipython-sql) (0.4.4)\n",
      "Requirement already satisfied: traitlets>=4.2 in c:\\users\\kuria\\anaconda3\\lib\\site-packages (from ipython>=1.0->ipython-sql) (5.0.5)\n",
      "Requirement already satisfied: backcall in c:\\users\\kuria\\anaconda3\\lib\\site-packages (from ipython>=1.0->ipython-sql) (0.2.0)\n",
      "Requirement already satisfied: jedi>=0.16 in c:\\users\\kuria\\anaconda3\\lib\\site-packages (from ipython>=1.0->ipython-sql) (0.17.2)\n",
      "Requirement already satisfied: pygments in c:\\users\\kuria\\anaconda3\\lib\\site-packages (from ipython>=1.0->ipython-sql) (2.8.1)\n",
      "Requirement already satisfied: pickleshare in c:\\users\\kuria\\anaconda3\\lib\\site-packages (from ipython>=1.0->ipython-sql) (0.7.5)\n",
      "Requirement already satisfied: setuptools>=18.5 in c:\\users\\kuria\\anaconda3\\lib\\site-packages (from ipython>=1.0->ipython-sql) (52.0.0.post20210125)\n",
      "Requirement already satisfied: prompt-toolkit!=3.0.0,!=3.0.1,<3.1.0,>=2.0.0 in c:\\users\\kuria\\anaconda3\\lib\\site-packages (from ipython>=1.0->ipython-sql) (3.0.17)\n",
      "Requirement already satisfied: decorator in c:\\users\\kuria\\anaconda3\\lib\\site-packages (from ipython>=1.0->ipython-sql) (5.0.6)\n",
      "Requirement already satisfied: parso<0.8.0,>=0.7.0 in c:\\users\\kuria\\anaconda3\\lib\\site-packages (from jedi>=0.16->ipython>=1.0->ipython-sql) (0.7.0)\n",
      "Requirement already satisfied: wcwidth in c:\\users\\kuria\\anaconda3\\lib\\site-packages (from prompt-toolkit!=3.0.0,!=3.0.1,<3.1.0,>=2.0.0->ipython>=1.0->ipython-sql) (0.2.5)\n",
      "Requirement already satisfied: greenlet!=0.4.17 in c:\\users\\kuria\\anaconda3\\lib\\site-packages (from sqlalchemy>=0.6.7->ipython-sql) (1.0.0)\n"
     ]
    }
   ],
   "source": [
    " !pip install ipython-sql"
   ]
  },
  {
   "cell_type": "code",
   "execution_count": 107,
   "id": "ceb4ee46",
   "metadata": {},
   "outputs": [
    {
     "data": {
      "text/plain": [
       "<sqlite3.Cursor at 0x2665d96e5e0>"
      ]
     },
     "execution_count": 107,
     "metadata": {},
     "output_type": "execute_result"
    }
   ],
   "source": [
    "import sqlite3\n",
    "conn = sqlite3.connect(\"problemsettwo.db\")\n",
    "sql=conn.cursor()\n",
    "sql.execute(\"Create table Temp(City TEXT,Country TEXT,Season TEXT,Temperature REAL,Rainfall REAL)\")\n",
    "sql.execute(\"INSERT INTO Temp VALUES('Mumbai','India','Winter',24.8,5.9)\")\n",
    "sql.execute(\"INSERT INTO Temp VALUES('Mumbai','India','Spring',28.4,16.2)\")\n",
    "sql.execute(\"INSERT INTO Temp VALUES('Mumbai','India','Summer',27.9,1549.4)\")\n",
    "sql.execute(\"INSERT INTO Temp VALUES('Mumbai','India','Fall',27.6,346.0)\")\n",
    "sql.execute(\"INSERT INTO Temp VALUES('London','United Kingdom','Winter',4.2,207.7)\")\n",
    "sql.execute(\"INSERT INTO Temp VALUES('London','United Kingdom','Spring',8.3,169.6)\")\n",
    "sql.execute(\"INSERT INTO Temp VALUES('London','United Kingdom','Summer',15.7,157.0)\")\n",
    "sql.execute(\"INSERT INTO Temp VALUES('London','United Kingdom','Fall',10.4,218.5)\")\n",
    "sql.execute(\"INSERT INTO Temp VALUES('Cairo','Egypt','Winter',13.6,16.5)\")\n",
    "sql.execute(\"INSERT INTO Temp VALUES('Cairo','Egypt','Spring',20.7,6.5)\")\n",
    "sql.execute(\"INSERT INTO Temp VALUES('Cairo','Egypt','Summer',27.7,0.1)\")\n",
    "sql.execute(\"INSERT INTO Temp VALUES('Cairo','Egypt','Fall',22.2,4.5)\")"
   ]
  },
  {
   "cell_type": "markdown",
   "id": "2eda2de3",
   "metadata": {},
   "source": [
    "a) All the temperature data"
   ]
  },
  {
   "cell_type": "code",
   "execution_count": 108,
   "id": "0d055ec6",
   "metadata": {},
   "outputs": [
    {
     "name": "stdout",
     "output_type": "stream",
     "text": [
      "(24.8,)\n",
      "(28.4,)\n",
      "(27.9,)\n",
      "(27.6,)\n",
      "(4.2,)\n",
      "(8.3,)\n",
      "(15.7,)\n",
      "(10.4,)\n",
      "(13.6,)\n",
      "(20.7,)\n",
      "(27.7,)\n",
      "(22.2,)\n"
     ]
    }
   ],
   "source": [
    "sql.execute(\"SELECT Temperature FROM Temp\")\n",
    "temperature=sql.fetchall()\n",
    "for i in temperature:\n",
    "    print(i)"
   ]
  },
  {
   "cell_type": "markdown",
   "id": "ec3cc213",
   "metadata": {},
   "source": [
    "b) All the cities, but without repetition."
   ]
  },
  {
   "cell_type": "code",
   "execution_count": 109,
   "id": "4f929f21",
   "metadata": {},
   "outputs": [
    {
     "name": "stdout",
     "output_type": "stream",
     "text": [
      "('Mumbai',)\n",
      "('London',)\n",
      "('Cairo',)\n"
     ]
    }
   ],
   "source": [
    "sql.execute(\"SELECT DISTINCT City FROM Temp\")\n",
    "City=sql.fetchall()\n",
    "for i in City:\n",
    "    print(i)"
   ]
  },
  {
   "cell_type": "markdown",
   "id": "3d4dcb49",
   "metadata": {},
   "source": [
    "c) All the records for India"
   ]
  },
  {
   "cell_type": "code",
   "execution_count": 111,
   "id": "1c42c701",
   "metadata": {},
   "outputs": [
    {
     "name": "stdout",
     "output_type": "stream",
     "text": [
      "('Mumbai', 'India', 'Winter', 24.8, 5.9)\n",
      "('Mumbai', 'India', 'Spring', 28.4, 16.2)\n",
      "('Mumbai', 'India', 'Summer', 27.9, 1549.4)\n",
      "('Mumbai', 'India', 'Fall', 27.6, 346.0)\n"
     ]
    }
   ],
   "source": [
    "sql.execute(\"SELECT * FROM Temp WHERE Country=='India'\")\n",
    "India=sql.fetchall()\n",
    "for i in India:\n",
    "    print(i)"
   ]
  },
  {
   "cell_type": "markdown",
   "id": "8395dc4b",
   "metadata": {},
   "source": [
    "d) All the Fall records."
   ]
  },
  {
   "cell_type": "code",
   "execution_count": 113,
   "id": "8619a063",
   "metadata": {},
   "outputs": [
    {
     "name": "stdout",
     "output_type": "stream",
     "text": [
      "('Mumbai', 'India', 'Fall', 27.6, 346.0)\n",
      "('London', 'United Kingdom', 'Fall', 10.4, 218.5)\n",
      "('Cairo', 'Egypt', 'Fall', 22.2, 4.5)\n"
     ]
    }
   ],
   "source": [
    "sql.execute(\"SELECT * FROM Temp WHERE Season=='Fall'\")\n",
    "Fall=sql.fetchall()\n",
    "for i in Fall:\n",
    "    print(i)"
   ]
  },
  {
   "cell_type": "markdown",
   "id": "cdedca85",
   "metadata": {},
   "source": [
    "e) The city, country, and season for which the average rainfall is between 200\n",
    "and 400 millimeters."
   ]
  },
  {
   "cell_type": "code",
   "execution_count": 115,
   "id": "94fc153e",
   "metadata": {},
   "outputs": [
    {
     "name": "stdout",
     "output_type": "stream",
     "text": [
      "('Mumbai', 'India', 'Fall')\n",
      "('London', 'United Kingdom', 'Winter')\n",
      "('London', 'United Kingdom', 'Fall')\n"
     ]
    }
   ],
   "source": [
    "sql.execute(\"SELECT City,Country,Season FROM Temp WHERE Rainfall BETWEEN 200 AND 400\")\n",
    "Avg=sql.fetchall()\n",
    "for i in Avg:\n",
    "    print(i)"
   ]
  },
  {
   "cell_type": "markdown",
   "id": "539d73e9",
   "metadata": {},
   "source": [
    "f) The city and country for which the average Fall temperature is above 20 degrees, in increasing temperature order."
   ]
  },
  {
   "cell_type": "code",
   "execution_count": 119,
   "id": "2b1dfd9f",
   "metadata": {},
   "outputs": [
    {
     "name": "stdout",
     "output_type": "stream",
     "text": [
      "('Cairo', 'Egypt', 22.2)\n",
      "('Mumbai', 'India', 27.6)\n"
     ]
    }
   ],
   "source": [
    "sql.execute(\"SELECT city,country,Temperature FROM temp WHERE season=='Fall' AND temperature>20 ORDER BY temperature ASC\")\n",
    "Degree=sql.fetchall()\n",
    "for i in Degree:\n",
    "    print(i)"
   ]
  },
  {
   "cell_type": "markdown",
   "id": "3f540a7c",
   "metadata": {},
   "source": [
    "g) The total annual rainfall for Cairo"
   ]
  },
  {
   "cell_type": "code",
   "execution_count": 120,
   "id": "0bd16d6a",
   "metadata": {},
   "outputs": [
    {
     "name": "stdout",
     "output_type": "stream",
     "text": [
      "(27.6,)\n"
     ]
    }
   ],
   "source": [
    "sql.execute(\"SELECT SUM(Rainfall) FROM temp WHERE City='Cairo'\")\n",
    "Sum=sql.fetchall()\n",
    "for i in Sum:\n",
    "    print(i)"
   ]
  },
  {
   "cell_type": "markdown",
   "id": "78847aa5",
   "metadata": {},
   "source": [
    "h) The total rainfall for each season."
   ]
  },
  {
   "cell_type": "code",
   "execution_count": 122,
   "id": "c0066b9b",
   "metadata": {},
   "outputs": [
    {
     "name": "stdout",
     "output_type": "stream",
     "text": [
      "[('Fall', 569.0), ('Spring', 192.29999999999998), ('Summer', 1706.5), ('Winter', 230.1)]\n"
     ]
    }
   ],
   "source": [
    "sql.execute(\"SELECT season,SUM(rainfall) FROM temp GROUP BY season\")\n",
    "Total=sql.fetchall()\n",
    "print(Total)"
   ]
  },
  {
   "cell_type": "markdown",
   "id": "37ff62a6",
   "metadata": {},
   "source": [
    "## Question 9"
   ]
  },
  {
   "cell_type": "markdown",
   "id": "ebaa6bee",
   "metadata": {},
   "source": [
    "Question 9\n",
    ". Suppose list words is defined as follows:\n",
    ">>> words = ['The', 'quick', 'brown', 'fox', 'jumps', 'over',\n",
    "'the', 'lazy', 'dog']\n",
    "Write list comprehension expressions that use list words and generate the following\n",
    "lists:\n",
    "a) ['THE', 'QUICK', 'BROWN', 'FOX', 'JUMPS', 'OVER', 'THE',\n",
    "'LAZY', 'DOG']\n",
    "b) ['the', 'quick', 'brown', 'fox', 'jumps', 'over', 'the',\n",
    "'lazy', 'dog']\n",
    "c) [3, 5, 5, 3, 5, 4, 3, 4, 3] (the list of lengths of words in list\n",
    "words).\n",
    "d) [['THE', 'the', 3], ['QUICK', 'quick', 5], ['BROWN',\n",
    "'brown', 5], ['FOX', 'fox', 3], ['JUMPS', 'jumps', 5],\n",
    "['OVER', 'over', 4], ['THE', 'the', 3], ['LAZY', 'lazy',\n",
    "4], ['DOG', 'dog', 3]] (the list containing a list for every word of list\n",
    "words, where each list contains the word in uppercase and lowercase and the\n",
    "length of the word.)\n",
    "e) ['The', 'quick', 'brown', 'fox', 'jumps', 'over', 'the',\n",
    "'lazy', 'dog'] (the list of words in list words containing 4 or more\n",
    "characters.)"
   ]
  },
  {
   "cell_type": "code",
   "execution_count": 151,
   "id": "62720670",
   "metadata": {},
   "outputs": [
    {
     "name": "stdout",
     "output_type": "stream",
     "text": [
      "['THE', 'QUICK', 'BROWN', 'FOX', 'JUMPS', 'OVER', 'THE', 'LAZY', 'DOG']\n",
      "['the', 'quick', 'brown', 'fox', 'jumps', 'over', 'the', 'lazy', 'dog']\n",
      "[3, 5, 5, 3, 5, 4, 3, 4, 3]\n",
      "[('THE', 'the', 3), ('QUICK', 'quick', 5), ('BROWN', 'brown', 5), ('FOX', 'fox', 3), ('JUMPS', 'jumps', 5), ('OVER', 'over', 4), ('THE', 'the', 3), ('LAZY', 'lazy', 4), ('DOG', 'dog', 3)]\n",
      "['quick', 'brown', 'jumps', 'over', 'lazy']\n"
     ]
    }
   ],
   "source": [
    "words = ['The', 'quick', 'brown', 'fox', 'jumps', 'over','the', 'lazy', 'dog']\n",
    "Upper = [x.upper() for x in words]\n",
    "Lower = [x.lower() for x in words]\n",
    "Length = [len(x) for x in words]\n",
    "Newlist = [(x.upper(),x.lower(),len(x)) for x in words]\n",
    "Four = [x for x in words if len(x) >= 4]\n",
    "\n",
    "print(Upper)\n",
    "print(Lower)\n",
    "print(Length)\n",
    "print(Newlist)\n",
    "print(Four)"
   ]
  },
  {
   "cell_type": "markdown",
   "id": "c73ee75e",
   "metadata": {},
   "source": [
    "### Thank You!"
   ]
  }
 ],
 "metadata": {
  "kernelspec": {
   "display_name": "Python 3",
   "language": "python",
   "name": "python3"
  },
  "language_info": {
   "codemirror_mode": {
    "name": "ipython",
    "version": 3
   },
   "file_extension": ".py",
   "mimetype": "text/x-python",
   "name": "python",
   "nbconvert_exporter": "python",
   "pygments_lexer": "ipython3",
   "version": "3.8.8"
  }
 },
 "nbformat": 4,
 "nbformat_minor": 5
}
